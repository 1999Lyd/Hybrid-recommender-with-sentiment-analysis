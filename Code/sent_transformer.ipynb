{
 "cells": [
  {
   "cell_type": "code",
   "execution_count": 1,
   "metadata": {},
   "outputs": [],
   "source": [
    "import os \n",
    "import pandas as pd\n",
    "import numpy as np\n",
    "import torch\n",
    "import matplotlib.pyplot as plt\n",
    "from sklearn.model_selection import train_test_split\n",
    "from sklearn.feature_extraction.text import TfidfVectorizer, CountVectorizer\n",
    "from tqdm import tqdm\n",
    "from sklearn.linear_model import LogisticRegression\n",
    "# !pip install sentence_transformers\n",
    "from sentence_transformers import SentenceTransformer\n",
    "\n",
    "\n",
    "\n",
    "\n",
    "CODE_PATH = os.getcwd()\n",
    "BASE_PATH = os.path.abspath(os.path.join(CODE_PATH, \"..\"))\n",
    "DATA_PATH = os.path.join(BASE_PATH, \"Data\")\n",
    "os.chdir(BASE_PATH)"
   ]
  },
  {
   "cell_type": "markdown",
   "metadata": {},
   "source": [
    "## Load Data"
   ]
  },
  {
   "cell_type": "code",
   "execution_count": 2,
   "metadata": {},
   "outputs": [
    {
     "data": {
      "text/html": [
       "<div>\n",
       "<style scoped>\n",
       "    .dataframe tbody tr th:only-of-type {\n",
       "        vertical-align: middle;\n",
       "    }\n",
       "\n",
       "    .dataframe tbody tr th {\n",
       "        vertical-align: top;\n",
       "    }\n",
       "\n",
       "    .dataframe thead th {\n",
       "        text-align: right;\n",
       "    }\n",
       "</style>\n",
       "<table border=\"1\" class=\"dataframe\">\n",
       "  <thead>\n",
       "    <tr style=\"text-align: right;\">\n",
       "      <th></th>\n",
       "      <th>Id</th>\n",
       "      <th>ProductId</th>\n",
       "      <th>UserId</th>\n",
       "      <th>ProfileName</th>\n",
       "      <th>HelpfulnessNumerator</th>\n",
       "      <th>HelpfulnessDenominator</th>\n",
       "      <th>Score</th>\n",
       "      <th>Time</th>\n",
       "      <th>Summary</th>\n",
       "      <th>Text</th>\n",
       "    </tr>\n",
       "  </thead>\n",
       "  <tbody>\n",
       "    <tr>\n",
       "      <th>0</th>\n",
       "      <td>1</td>\n",
       "      <td>B001E4KFG0</td>\n",
       "      <td>A3SGXH7AUHU8GW</td>\n",
       "      <td>delmartian</td>\n",
       "      <td>1</td>\n",
       "      <td>1</td>\n",
       "      <td>5</td>\n",
       "      <td>1303862400</td>\n",
       "      <td>Good Quality Dog Food</td>\n",
       "      <td>I have bought several of the Vitality canned d...</td>\n",
       "    </tr>\n",
       "    <tr>\n",
       "      <th>1</th>\n",
       "      <td>2</td>\n",
       "      <td>B00813GRG4</td>\n",
       "      <td>A1D87F6ZCVE5NK</td>\n",
       "      <td>dll pa</td>\n",
       "      <td>0</td>\n",
       "      <td>0</td>\n",
       "      <td>1</td>\n",
       "      <td>1346976000</td>\n",
       "      <td>Not as Advertised</td>\n",
       "      <td>Product arrived labeled as Jumbo Salted Peanut...</td>\n",
       "    </tr>\n",
       "    <tr>\n",
       "      <th>2</th>\n",
       "      <td>3</td>\n",
       "      <td>B000LQOCH0</td>\n",
       "      <td>ABXLMWJIXXAIN</td>\n",
       "      <td>Natalia Corres \"Natalia Corres\"</td>\n",
       "      <td>1</td>\n",
       "      <td>1</td>\n",
       "      <td>4</td>\n",
       "      <td>1219017600</td>\n",
       "      <td>\"Delight\" says it all</td>\n",
       "      <td>This is a confection that has been around a fe...</td>\n",
       "    </tr>\n",
       "    <tr>\n",
       "      <th>3</th>\n",
       "      <td>4</td>\n",
       "      <td>B000UA0QIQ</td>\n",
       "      <td>A395BORC6FGVXV</td>\n",
       "      <td>Karl</td>\n",
       "      <td>3</td>\n",
       "      <td>3</td>\n",
       "      <td>2</td>\n",
       "      <td>1307923200</td>\n",
       "      <td>Cough Medicine</td>\n",
       "      <td>If you are looking for the secret ingredient i...</td>\n",
       "    </tr>\n",
       "    <tr>\n",
       "      <th>4</th>\n",
       "      <td>5</td>\n",
       "      <td>B006K2ZZ7K</td>\n",
       "      <td>A1UQRSCLF8GW1T</td>\n",
       "      <td>Michael D. Bigham \"M. Wassir\"</td>\n",
       "      <td>0</td>\n",
       "      <td>0</td>\n",
       "      <td>5</td>\n",
       "      <td>1350777600</td>\n",
       "      <td>Great taffy</td>\n",
       "      <td>Great taffy at a great price.  There was a wid...</td>\n",
       "    </tr>\n",
       "  </tbody>\n",
       "</table>\n",
       "</div>"
      ],
      "text/plain": [
       "   Id   ProductId          UserId                      ProfileName  \\\n",
       "0   1  B001E4KFG0  A3SGXH7AUHU8GW                       delmartian   \n",
       "1   2  B00813GRG4  A1D87F6ZCVE5NK                           dll pa   \n",
       "2   3  B000LQOCH0   ABXLMWJIXXAIN  Natalia Corres \"Natalia Corres\"   \n",
       "3   4  B000UA0QIQ  A395BORC6FGVXV                             Karl   \n",
       "4   5  B006K2ZZ7K  A1UQRSCLF8GW1T    Michael D. Bigham \"M. Wassir\"   \n",
       "\n",
       "   HelpfulnessNumerator  HelpfulnessDenominator  Score        Time  \\\n",
       "0                     1                       1      5  1303862400   \n",
       "1                     0                       0      1  1346976000   \n",
       "2                     1                       1      4  1219017600   \n",
       "3                     3                       3      2  1307923200   \n",
       "4                     0                       0      5  1350777600   \n",
       "\n",
       "                 Summary                                               Text  \n",
       "0  Good Quality Dog Food  I have bought several of the Vitality canned d...  \n",
       "1      Not as Advertised  Product arrived labeled as Jumbo Salted Peanut...  \n",
       "2  \"Delight\" says it all  This is a confection that has been around a fe...  \n",
       "3         Cough Medicine  If you are looking for the secret ingredient i...  \n",
       "4            Great taffy  Great taffy at a great price.  There was a wid...  "
      ]
     },
     "execution_count": 2,
     "metadata": {},
     "output_type": "execute_result"
    }
   ],
   "source": [
    "#load data\n",
    "data = pd.read_csv(os.path.join(DATA_PATH, 'Reviews.csv'))\n",
    "data.head()"
   ]
  },
  {
   "cell_type": "code",
   "execution_count": 3,
   "metadata": {},
   "outputs": [
    {
     "data": {
      "text/html": [
       "<div>\n",
       "<style scoped>\n",
       "    .dataframe tbody tr th:only-of-type {\n",
       "        vertical-align: middle;\n",
       "    }\n",
       "\n",
       "    .dataframe tbody tr th {\n",
       "        vertical-align: top;\n",
       "    }\n",
       "\n",
       "    .dataframe thead th {\n",
       "        text-align: right;\n",
       "    }\n",
       "</style>\n",
       "<table border=\"1\" class=\"dataframe\">\n",
       "  <thead>\n",
       "    <tr style=\"text-align: right;\">\n",
       "      <th></th>\n",
       "      <th>ProductId</th>\n",
       "      <th>UserId</th>\n",
       "      <th>Score</th>\n",
       "      <th>Text</th>\n",
       "    </tr>\n",
       "  </thead>\n",
       "  <tbody>\n",
       "    <tr>\n",
       "      <th>0</th>\n",
       "      <td>B001E4KFG0</td>\n",
       "      <td>A3SGXH7AUHU8GW</td>\n",
       "      <td>5</td>\n",
       "      <td>I have bought several of the Vitality canned d...</td>\n",
       "    </tr>\n",
       "    <tr>\n",
       "      <th>1</th>\n",
       "      <td>B00813GRG4</td>\n",
       "      <td>A1D87F6ZCVE5NK</td>\n",
       "      <td>1</td>\n",
       "      <td>Product arrived labeled as Jumbo Salted Peanut...</td>\n",
       "    </tr>\n",
       "    <tr>\n",
       "      <th>2</th>\n",
       "      <td>B000LQOCH0</td>\n",
       "      <td>ABXLMWJIXXAIN</td>\n",
       "      <td>4</td>\n",
       "      <td>This is a confection that has been around a fe...</td>\n",
       "    </tr>\n",
       "    <tr>\n",
       "      <th>3</th>\n",
       "      <td>B000UA0QIQ</td>\n",
       "      <td>A395BORC6FGVXV</td>\n",
       "      <td>2</td>\n",
       "      <td>If you are looking for the secret ingredient i...</td>\n",
       "    </tr>\n",
       "    <tr>\n",
       "      <th>4</th>\n",
       "      <td>B006K2ZZ7K</td>\n",
       "      <td>A1UQRSCLF8GW1T</td>\n",
       "      <td>5</td>\n",
       "      <td>Great taffy at a great price.  There was a wid...</td>\n",
       "    </tr>\n",
       "  </tbody>\n",
       "</table>\n",
       "</div>"
      ],
      "text/plain": [
       "    ProductId          UserId  Score  \\\n",
       "0  B001E4KFG0  A3SGXH7AUHU8GW      5   \n",
       "1  B00813GRG4  A1D87F6ZCVE5NK      1   \n",
       "2  B000LQOCH0   ABXLMWJIXXAIN      4   \n",
       "3  B000UA0QIQ  A395BORC6FGVXV      2   \n",
       "4  B006K2ZZ7K  A1UQRSCLF8GW1T      5   \n",
       "\n",
       "                                                Text  \n",
       "0  I have bought several of the Vitality canned d...  \n",
       "1  Product arrived labeled as Jumbo Salted Peanut...  \n",
       "2  This is a confection that has been around a fe...  \n",
       "3  If you are looking for the secret ingredient i...  \n",
       "4  Great taffy at a great price.  There was a wid...  "
      ]
     },
     "execution_count": 3,
     "metadata": {},
     "output_type": "execute_result"
    }
   ],
   "source": [
    "#select useful columns\n",
    "cols = ['ProductId', 'UserId', 'Score', 'Text']\n",
    "select_data = data[cols]\n",
    "select_data.head()"
   ]
  },
  {
   "cell_type": "markdown",
   "metadata": {},
   "source": [
    "## Preprocess Data"
   ]
  },
  {
   "cell_type": "markdown",
   "metadata": {},
   "source": [
    "### Label Sentiment"
   ]
  },
  {
   "cell_type": "code",
   "execution_count": 4,
   "metadata": {},
   "outputs": [
    {
     "data": {
      "image/png": "[encoded data removed]",
      "text/plain": [
       "<Figure size 432x288 with 1 Axes>"
      ]
     },
     "metadata": {
      "needs_background": "light"
     },
     "output_type": "display_data"
    }
   ],
   "source": [
    "#visulize the distribution of scores\n",
    "plt.hist(select_data[\"Score\"])\n",
    "plt.show()"
   ]
  },
  {
   "cell_type": "code",
   "execution_count": 5,
   "metadata": {},
   "outputs": [],
   "source": [
    "#split the data\n",
    "train_data, test_data = train_test_split(select_data, random_state=0, test_size=0.3)"
   ]
  },
  {
   "cell_type": "code",
   "execution_count": 6,
   "metadata": {},
   "outputs": [],
   "source": [
    "sentiment_label = {1: \"positive\",\n",
    "                 0: \"neutral\",\n",
    "                 -1: \"negative\"}\n",
    "def label_sentiment(data):\n",
    "    data.loc[data['Score'] == 5, [\"sentiment\"]] = 1\n",
    "    data.loc[data['Score'] == 4, [\"sentiment\"]] = 0\n",
    "    data.loc[data['Score'] <= 3, [\"sentiment\"]] = -1\n",
    "    return data\n"
   ]
  },
  {
   "cell_type": "code",
   "execution_count": 7,
   "metadata": {},
   "outputs": [
    {
     "data": {
      "text/html": [
       "<div>\n",
       "<style scoped>\n",
       "    .dataframe tbody tr th:only-of-type {\n",
       "        vertical-align: middle;\n",
       "    }\n",
       "\n",
       "    .dataframe tbody tr th {\n",
       "        vertical-align: top;\n",
       "    }\n",
       "\n",
       "    .dataframe thead th {\n",
       "        text-align: right;\n",
       "    }\n",
       "</style>\n",
       "<table border=\"1\" class=\"dataframe\">\n",
       "  <thead>\n",
       "    <tr style=\"text-align: right;\">\n",
       "      <th></th>\n",
       "      <th>ProductId</th>\n",
       "      <th>UserId</th>\n",
       "      <th>Score</th>\n",
       "      <th>Text</th>\n",
       "      <th>sentiment</th>\n",
       "    </tr>\n",
       "  </thead>\n",
       "  <tbody>\n",
       "    <tr>\n",
       "      <th>333546</th>\n",
       "      <td>B00188S3PM</td>\n",
       "      <td>A3IMFBFX5L85S9</td>\n",
       "      <td>2</td>\n",
       "      <td>I had a hard time drinking this tea as it tast...</td>\n",
       "      <td>-1.0</td>\n",
       "    </tr>\n",
       "    <tr>\n",
       "      <th>149769</th>\n",
       "      <td>B00004S1C5</td>\n",
       "      <td>A1KXONFPU2XQ5K</td>\n",
       "      <td>5</td>\n",
       "      <td>This are so much easier to use than the Wilson...</td>\n",
       "      <td>1.0</td>\n",
       "    </tr>\n",
       "    <tr>\n",
       "      <th>483649</th>\n",
       "      <td>B000LKTW5S</td>\n",
       "      <td>A2CH3AVJI0UR3P</td>\n",
       "      <td>5</td>\n",
       "      <td>I've had a bunch of these Indian food pouch th...</td>\n",
       "      <td>1.0</td>\n",
       "    </tr>\n",
       "    <tr>\n",
       "      <th>392300</th>\n",
       "      <td>B001EQ50U4</td>\n",
       "      <td>AKP5H95MFKI21</td>\n",
       "      <td>4</td>\n",
       "      <td>I received this item as advertised, i.e. pack ...</td>\n",
       "      <td>0.0</td>\n",
       "    </tr>\n",
       "    <tr>\n",
       "      <th>1514</th>\n",
       "      <td>B003UIDAHY</td>\n",
       "      <td>A5WOFSMP2PI45</td>\n",
       "      <td>5</td>\n",
       "      <td>Great product.  Recommended by Dr. Oz.  We lov...</td>\n",
       "      <td>1.0</td>\n",
       "    </tr>\n",
       "  </tbody>\n",
       "</table>\n",
       "</div>"
      ],
      "text/plain": [
       "         ProductId          UserId  Score  \\\n",
       "333546  B00188S3PM  A3IMFBFX5L85S9      2   \n",
       "149769  B00004S1C5  A1KXONFPU2XQ5K      5   \n",
       "483649  B000LKTW5S  A2CH3AVJI0UR3P      5   \n",
       "392300  B001EQ50U4   AKP5H95MFKI21      4   \n",
       "1514    B003UIDAHY   A5WOFSMP2PI45      5   \n",
       "\n",
       "                                                     Text  sentiment  \n",
       "333546  I had a hard time drinking this tea as it tast...       -1.0  \n",
       "149769  This are so much easier to use than the Wilson...        1.0  \n",
       "483649  I've had a bunch of these Indian food pouch th...        1.0  \n",
       "392300  I received this item as advertised, i.e. pack ...        0.0  \n",
       "1514    Great product.  Recommended by Dr. Oz.  We lov...        1.0  "
      ]
     },
     "execution_count": 7,
     "metadata": {},
     "output_type": "execute_result"
    }
   ],
   "source": [
    "train_data = label_sentiment(train_data)\n",
    "test_data = label_sentiment(test_data)\n",
    "train_data.head()"
   ]
  },
  {
   "cell_type": "markdown",
   "metadata": {},
   "source": [
    "## Create document embeddings"
   ]
  },
  {
   "cell_type": "code",
   "execution_count": 9,
   "metadata": {},
   "outputs": [
    {
     "name": "stderr",
     "output_type": "stream",
     "text": [
      "Downloading: 100%|██████████| 1.18k/1.18k [00:00<00:00, 587kB/s]\n",
      "Downloading: 100%|██████████| 10.2k/10.2k [00:00<00:00, 5.09MB/s]\n",
      "Downloading: 100%|██████████| 612/612 [00:00<00:00, 306kB/s]\n",
      "Downloading: 100%|██████████| 116/116 [00:00<00:00, 58.0kB/s]\n",
      "Downloading: 100%|██████████| 39.3k/39.3k [00:00<00:00, 1.05MB/s]\n",
      "Downloading: 100%|██████████| 349/349 [00:00<00:00, 349kB/s]\n",
      "Downloading: 100%|██████████| 90.9M/90.9M [00:06<00:00, 14.1MB/s]\n",
      "Downloading: 100%|██████████| 53.0/53.0 [00:00<00:00, 23.5kB/s]\n",
      "Downloading: 100%|██████████| 112/112 [00:00<00:00, 112kB/s]\n",
      "Downloading: 100%|██████████| 466k/466k [00:00<00:00, 3.01MB/s]\n",
      "Downloading: 100%|██████████| 350/350 [00:00<00:00, 173kB/s]\n",
      "Downloading: 100%|██████████| 13.2k/13.2k [00:00<00:00, 7.54MB/s]\n",
      "Downloading: 100%|██████████| 232k/232k [00:00<00:00, 1.88MB/s]\n",
      "Downloading: 100%|██████████| 190/190 [00:00<00:00, 95.0kB/s]\n"
     ]
    }
   ],
   "source": [
    "device = torch.device(\"cuda\" if torch.cuda.is_available() else \"cpu\")\n",
    "# Load pre-trained model\n",
    "senttrans_model = SentenceTransformer('all-MiniLM-L6-v2',device=device)\n",
    "\n",
    "# Create embeddings for training set text\n",
    "X_train = train_data['Text'].values.tolist()\n",
    "X_train = [senttrans_model.encode(doc) for doc in X_train]\n",
    "\n",
    "# Create embeddings for test set text\n",
    "X_test = test_data['Text'].values.tolist()\n",
    "X_test = [senttrans_model.encode(doc) for doc in X_test]"
   ]
  },
  {
   "cell_type": "markdown",
   "metadata": {},
   "source": [
    "## Train classification model"
   ]
  },
  {
   "cell_type": "code",
   "execution_count": 10,
   "metadata": {},
   "outputs": [
    {
     "name": "stdout",
     "output_type": "stream",
     "text": [
      "Accuracy on the training set is 0.739\n"
     ]
    }
   ],
   "source": [
    "# Train a classification model using logistic regression classifier\n",
    "y_train = train_data['sentiment']\n",
    "logreg_model = LogisticRegression(solver='saga')\n",
    "logreg_model.fit(X_train,y_train)\n",
    "preds = logreg_model.predict(X_train)\n",
    "acc = sum(preds==y_train)/len(y_train)\n",
    "print('Accuracy on the training set is {:.3f}'.format(acc))"
   ]
  },
  {
   "cell_type": "markdown",
   "metadata": {},
   "source": [
    "## Evaluate model performance"
   ]
  },
  {
   "cell_type": "code",
   "execution_count": 11,
   "metadata": {},
   "outputs": [
    {
     "name": "stdout",
     "output_type": "stream",
     "text": [
      "Accuracy on the test set is 0.737\n"
     ]
    }
   ],
   "source": [
    "# Evaluate performance on the test set\n",
    "y_test = test_data['sentiment']\n",
    "preds = logreg_model.predict(X_test)\n",
    "acc = sum(preds==y_test)/len(y_test)\n",
    "print('Accuracy on the test set is {:.3f}'.format(acc))"
   ]
  },
  {
   "cell_type": "code",
   "execution_count": 13,
   "metadata": {},
   "outputs": [],
   "source": [
    "train_data['sentiment_pred'] = logreg_model.predict(X_train)\n",
    "test_data['sentiment_pred'] = logreg_model.predict(X_test)"
   ]
  },
  {
   "cell_type": "code",
   "execution_count": 14,
   "metadata": {},
   "outputs": [
    {
     "data": {
      "text/html": [
       "<div>\n",
       "<style scoped>\n",
       "    .dataframe tbody tr th:only-of-type {\n",
       "        vertical-align: middle;\n",
       "    }\n",
       "\n",
       "    .dataframe tbody tr th {\n",
       "        vertical-align: top;\n",
       "    }\n",
       "\n",
       "    .dataframe thead th {\n",
       "        text-align: right;\n",
       "    }\n",
       "</style>\n",
       "<table border=\"1\" class=\"dataframe\">\n",
       "  <thead>\n",
       "    <tr style=\"text-align: right;\">\n",
       "      <th></th>\n",
       "      <th>ProductId</th>\n",
       "      <th>UserId</th>\n",
       "      <th>Score</th>\n",
       "      <th>Text</th>\n",
       "      <th>sentiment</th>\n",
       "      <th>sentiment_pred</th>\n",
       "    </tr>\n",
       "  </thead>\n",
       "  <tbody>\n",
       "    <tr>\n",
       "      <th>333546</th>\n",
       "      <td>B00188S3PM</td>\n",
       "      <td>A3IMFBFX5L85S9</td>\n",
       "      <td>2</td>\n",
       "      <td>I had a hard time drinking this tea as it tast...</td>\n",
       "      <td>-1.0</td>\n",
       "      <td>1.0</td>\n",
       "    </tr>\n",
       "    <tr>\n",
       "      <th>149769</th>\n",
       "      <td>B00004S1C5</td>\n",
       "      <td>A1KXONFPU2XQ5K</td>\n",
       "      <td>5</td>\n",
       "      <td>This are so much easier to use than the Wilson...</td>\n",
       "      <td>1.0</td>\n",
       "      <td>1.0</td>\n",
       "    </tr>\n",
       "    <tr>\n",
       "      <th>483649</th>\n",
       "      <td>B000LKTW5S</td>\n",
       "      <td>A2CH3AVJI0UR3P</td>\n",
       "      <td>5</td>\n",
       "      <td>I've had a bunch of these Indian food pouch th...</td>\n",
       "      <td>1.0</td>\n",
       "      <td>1.0</td>\n",
       "    </tr>\n",
       "    <tr>\n",
       "      <th>392300</th>\n",
       "      <td>B001EQ50U4</td>\n",
       "      <td>AKP5H95MFKI21</td>\n",
       "      <td>4</td>\n",
       "      <td>I received this item as advertised, i.e. pack ...</td>\n",
       "      <td>0.0</td>\n",
       "      <td>-1.0</td>\n",
       "    </tr>\n",
       "    <tr>\n",
       "      <th>1514</th>\n",
       "      <td>B003UIDAHY</td>\n",
       "      <td>A5WOFSMP2PI45</td>\n",
       "      <td>5</td>\n",
       "      <td>Great product.  Recommended by Dr. Oz.  We lov...</td>\n",
       "      <td>1.0</td>\n",
       "      <td>1.0</td>\n",
       "    </tr>\n",
       "  </tbody>\n",
       "</table>\n",
       "</div>"
      ],
      "text/plain": [
       "         ProductId          UserId  Score  \\\n",
       "333546  B00188S3PM  A3IMFBFX5L85S9      2   \n",
       "149769  B00004S1C5  A1KXONFPU2XQ5K      5   \n",
       "483649  B000LKTW5S  A2CH3AVJI0UR3P      5   \n",
       "392300  B001EQ50U4   AKP5H95MFKI21      4   \n",
       "1514    B003UIDAHY   A5WOFSMP2PI45      5   \n",
       "\n",
       "                                                     Text  sentiment  \\\n",
       "333546  I had a hard time drinking this tea as it tast...       -1.0   \n",
       "149769  This are so much easier to use than the Wilson...        1.0   \n",
       "483649  I've had a bunch of these Indian food pouch th...        1.0   \n",
       "392300  I received this item as advertised, i.e. pack ...        0.0   \n",
       "1514    Great product.  Recommended by Dr. Oz.  We lov...        1.0   \n",
       "\n",
       "        sentiment_pred  \n",
       "333546             1.0  \n",
       "149769             1.0  \n",
       "483649             1.0  \n",
       "392300            -1.0  \n",
       "1514               1.0  "
      ]
     },
     "execution_count": 14,
     "metadata": {},
     "output_type": "execute_result"
    }
   ],
   "source": [
    "train_data.head()"
   ]
  },
  {
   "cell_type": "code",
   "execution_count": 15,
   "metadata": {},
   "outputs": [],
   "source": [
    "train_data.to_csv(os.path.join(DATA_PATH, \"transformer_train.csv\"))\n",
    "test_data.to_csv(os.path.join(DATA_PATH, \"transformer_test.csv\"))"
   ]
  },
  {
   "cell_type": "code",
   "execution_count": null,
   "metadata": {},
   "outputs": [],
   "source": []
  }
 ],
 "metadata": {
  "interpreter": {
   "hash": "e59ba9495cf5a0f7daa13e34e418c9fb6692db49850371a2f353821d5213ce6c"
  },
  "kernelspec": {
   "display_name": "Python 3.7.11 ('ind')",
   "language": "python",
   "name": "python3"
  },
  "language_info": {
   "codemirror_mode": {
    "name": "ipython",
    "version": 3
   },
   "file_extension": ".py",
   "mimetype": "text/x-python",
   "name": "python",
   "nbconvert_exporter": "python",
   "pygments_lexer": "ipython3",
   "version": "3.7.11"
  },
  "orig_nbformat": 4
 },
 "nbformat": 4,
 "nbformat_minor": 2
}

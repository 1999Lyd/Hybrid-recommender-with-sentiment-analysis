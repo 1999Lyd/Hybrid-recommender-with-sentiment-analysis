{
 "cells": [
  {
   "cell_type": "code",
   "execution_count": 13,
   "metadata": {},
   "outputs": [
    {
     "name": "stderr",
     "output_type": "stream",
     "text": [
      "[nltk_data] Downloading package omw-1.4 to\n",
      "[nltk_data]     C:\\Users\\14183\\AppData\\Roaming\\nltk_data...\n",
      "[nltk_data]   Package omw-1.4 is already up-to-date!\n"
     ]
    }
   ],
   "source": [
    "import os \n",
    "\n",
    "import string\n",
    "import pandas as pd\n",
    "import matplotlib.pyplot as plt\n",
    "from sklearn.model_selection import train_test_split\n",
    "from sklearn.feature_extraction.text import TfidfVectorizer, CountVectorizer\n",
    "from tqdm import tqdm\n",
    "from sklearn.linear_model import LogisticRegression\n",
    "\n",
    "import spacy\n",
    "from spacy.lang.en.stop_words import STOP_WORDS\n",
    "from spacy.lang.en import English\n",
    "# !python -m spacy download en_core_web_md\n",
    "nlp = spacy.load('en_core_web_md')\n",
    "\n",
    "import nltk\n",
    "from nltk.stem import WordNetLemmatizer\n",
    "nltk.download('omw-1.4')\n",
    "\n",
    "CODE_PATH = os.getcwd()\n",
    "BASE_PATH = os.path.abspath(os.path.join(CODE_PATH, \"..\"))\n",
    "DATA_PATH = os.path.join(BASE_PATH, \"Data\")\n",
    "MODEL_PATH = os.path.join(BASE_PATH, \"Model\")\n",
    "os.chdir(BASE_PATH)"
   ]
  },
  {
   "cell_type": "markdown",
   "metadata": {},
   "source": [
    "## Load Data"
   ]
  },
  {
   "cell_type": "code",
   "execution_count": 14,
   "metadata": {},
   "outputs": [
    {
     "data": {
      "text/html": [
       "<div>\n",
       "<style scoped>\n",
       "    .dataframe tbody tr th:only-of-type {\n",
       "        vertical-align: middle;\n",
       "    }\n",
       "\n",
       "    .dataframe tbody tr th {\n",
       "        vertical-align: top;\n",
       "    }\n",
       "\n",
       "    .dataframe thead th {\n",
       "        text-align: right;\n",
       "    }\n",
       "</style>\n",
       "<table border=\"1\" class=\"dataframe\">\n",
       "  <thead>\n",
       "    <tr style=\"text-align: right;\">\n",
       "      <th></th>\n",
       "      <th>Id</th>\n",
       "      <th>ProductId</th>\n",
       "      <th>UserId</th>\n",
       "      <th>ProfileName</th>\n",
       "      <th>HelpfulnessNumerator</th>\n",
       "      <th>HelpfulnessDenominator</th>\n",
       "      <th>Score</th>\n",
       "      <th>Time</th>\n",
       "      <th>Summary</th>\n",
       "      <th>Text</th>\n",
       "    </tr>\n",
       "  </thead>\n",
       "  <tbody>\n",
       "    <tr>\n",
       "      <th>0</th>\n",
       "      <td>1</td>\n",
       "      <td>B001E4KFG0</td>\n",
       "      <td>A3SGXH7AUHU8GW</td>\n",
       "      <td>delmartian</td>\n",
       "      <td>1</td>\n",
       "      <td>1</td>\n",
       "      <td>5</td>\n",
       "      <td>1303862400</td>\n",
       "      <td>Good Quality Dog Food</td>\n",
       "      <td>I have bought several of the Vitality canned d...</td>\n",
       "    </tr>\n",
       "    <tr>\n",
       "      <th>1</th>\n",
       "      <td>2</td>\n",
       "      <td>B00813GRG4</td>\n",
       "      <td>A1D87F6ZCVE5NK</td>\n",
       "      <td>dll pa</td>\n",
       "      <td>0</td>\n",
       "      <td>0</td>\n",
       "      <td>1</td>\n",
       "      <td>1346976000</td>\n",
       "      <td>Not as Advertised</td>\n",
       "      <td>Product arrived labeled as Jumbo Salted Peanut...</td>\n",
       "    </tr>\n",
       "    <tr>\n",
       "      <th>2</th>\n",
       "      <td>3</td>\n",
       "      <td>B000LQOCH0</td>\n",
       "      <td>ABXLMWJIXXAIN</td>\n",
       "      <td>Natalia Corres \"Natalia Corres\"</td>\n",
       "      <td>1</td>\n",
       "      <td>1</td>\n",
       "      <td>4</td>\n",
       "      <td>1219017600</td>\n",
       "      <td>\"Delight\" says it all</td>\n",
       "      <td>This is a confection that has been around a fe...</td>\n",
       "    </tr>\n",
       "    <tr>\n",
       "      <th>3</th>\n",
       "      <td>4</td>\n",
       "      <td>B000UA0QIQ</td>\n",
       "      <td>A395BORC6FGVXV</td>\n",
       "      <td>Karl</td>\n",
       "      <td>3</td>\n",
       "      <td>3</td>\n",
       "      <td>2</td>\n",
       "      <td>1307923200</td>\n",
       "      <td>Cough Medicine</td>\n",
       "      <td>If you are looking for the secret ingredient i...</td>\n",
       "    </tr>\n",
       "    <tr>\n",
       "      <th>4</th>\n",
       "      <td>5</td>\n",
       "      <td>B006K2ZZ7K</td>\n",
       "      <td>A1UQRSCLF8GW1T</td>\n",
       "      <td>Michael D. Bigham \"M. Wassir\"</td>\n",
       "      <td>0</td>\n",
       "      <td>0</td>\n",
       "      <td>5</td>\n",
       "      <td>1350777600</td>\n",
       "      <td>Great taffy</td>\n",
       "      <td>Great taffy at a great price.  There was a wid...</td>\n",
       "    </tr>\n",
       "  </tbody>\n",
       "</table>\n",
       "</div>"
      ],
      "text/plain": [
       "   Id   ProductId          UserId                      ProfileName  \\\n",
       "0   1  B001E4KFG0  A3SGXH7AUHU8GW                       delmartian   \n",
       "1   2  B00813GRG4  A1D87F6ZCVE5NK                           dll pa   \n",
       "2   3  B000LQOCH0   ABXLMWJIXXAIN  Natalia Corres \"Natalia Corres\"   \n",
       "3   4  B000UA0QIQ  A395BORC6FGVXV                             Karl   \n",
       "4   5  B006K2ZZ7K  A1UQRSCLF8GW1T    Michael D. Bigham \"M. Wassir\"   \n",
       "\n",
       "   HelpfulnessNumerator  HelpfulnessDenominator  Score        Time  \\\n",
       "0                     1                       1      5  1303862400   \n",
       "1                     0                       0      1  1346976000   \n",
       "2                     1                       1      4  1219017600   \n",
       "3                     3                       3      2  1307923200   \n",
       "4                     0                       0      5  1350777600   \n",
       "\n",
       "                 Summary                                               Text  \n",
       "0  Good Quality Dog Food  I have bought several of the Vitality canned d...  \n",
       "1      Not as Advertised  Product arrived labeled as Jumbo Salted Peanut...  \n",
       "2  \"Delight\" says it all  This is a confection that has been around a fe...  \n",
       "3         Cough Medicine  If you are looking for the secret ingredient i...  \n",
       "4            Great taffy  Great taffy at a great price.  There was a wid...  "
      ]
     },
     "execution_count": 14,
     "metadata": {},
     "output_type": "execute_result"
    }
   ],
   "source": [
    "#load data\n",
    "data = pd.read_csv(os.path.join(DATA_PATH, 'Reviews.csv'))\n",
    "data.head()"
   ]
  },
  {
   "cell_type": "code",
   "execution_count": 15,
   "metadata": {},
   "outputs": [
    {
     "data": {
      "text/html": [
       "<div>\n",
       "<style scoped>\n",
       "    .dataframe tbody tr th:only-of-type {\n",
       "        vertical-align: middle;\n",
       "    }\n",
       "\n",
       "    .dataframe tbody tr th {\n",
       "        vertical-align: top;\n",
       "    }\n",
       "\n",
       "    .dataframe thead th {\n",
       "        text-align: right;\n",
       "    }\n",
       "</style>\n",
       "<table border=\"1\" class=\"dataframe\">\n",
       "  <thead>\n",
       "    <tr style=\"text-align: right;\">\n",
       "      <th></th>\n",
       "      <th>ProductId</th>\n",
       "      <th>UserId</th>\n",
       "      <th>Score</th>\n",
       "      <th>Text</th>\n",
       "    </tr>\n",
       "  </thead>\n",
       "  <tbody>\n",
       "    <tr>\n",
       "      <th>0</th>\n",
       "      <td>B001E4KFG0</td>\n",
       "      <td>A3SGXH7AUHU8GW</td>\n",
       "      <td>5</td>\n",
       "      <td>I have bought several of the Vitality canned d...</td>\n",
       "    </tr>\n",
       "    <tr>\n",
       "      <th>1</th>\n",
       "      <td>B00813GRG4</td>\n",
       "      <td>A1D87F6ZCVE5NK</td>\n",
       "      <td>1</td>\n",
       "      <td>Product arrived labeled as Jumbo Salted Peanut...</td>\n",
       "    </tr>\n",
       "    <tr>\n",
       "      <th>2</th>\n",
       "      <td>B000LQOCH0</td>\n",
       "      <td>ABXLMWJIXXAIN</td>\n",
       "      <td>4</td>\n",
       "      <td>This is a confection that has been around a fe...</td>\n",
       "    </tr>\n",
       "    <tr>\n",
       "      <th>3</th>\n",
       "      <td>B000UA0QIQ</td>\n",
       "      <td>A395BORC6FGVXV</td>\n",
       "      <td>2</td>\n",
       "      <td>If you are looking for the secret ingredient i...</td>\n",
       "    </tr>\n",
       "    <tr>\n",
       "      <th>4</th>\n",
       "      <td>B006K2ZZ7K</td>\n",
       "      <td>A1UQRSCLF8GW1T</td>\n",
       "      <td>5</td>\n",
       "      <td>Great taffy at a great price.  There was a wid...</td>\n",
       "    </tr>\n",
       "  </tbody>\n",
       "</table>\n",
       "</div>"
      ],
      "text/plain": [
       "    ProductId          UserId  Score  \\\n",
       "0  B001E4KFG0  A3SGXH7AUHU8GW      5   \n",
       "1  B00813GRG4  A1D87F6ZCVE5NK      1   \n",
       "2  B000LQOCH0   ABXLMWJIXXAIN      4   \n",
       "3  B000UA0QIQ  A395BORC6FGVXV      2   \n",
       "4  B006K2ZZ7K  A1UQRSCLF8GW1T      5   \n",
       "\n",
       "                                                Text  \n",
       "0  I have bought several of the Vitality canned d...  \n",
       "1  Product arrived labeled as Jumbo Salted Peanut...  \n",
       "2  This is a confection that has been around a fe...  \n",
       "3  If you are looking for the secret ingredient i...  \n",
       "4  Great taffy at a great price.  There was a wid...  "
      ]
     },
     "execution_count": 15,
     "metadata": {},
     "output_type": "execute_result"
    }
   ],
   "source": [
    "#select useful columns\n",
    "cols = ['ProductId', 'UserId', 'Score', 'Text']\n",
    "select_data = data[cols]\n",
    "select_data.head()"
   ]
  },
  {
   "cell_type": "markdown",
   "metadata": {},
   "source": [
    "## Preprocess Data"
   ]
  },
  {
   "cell_type": "markdown",
   "metadata": {},
   "source": [
    "### Label Sentiment"
   ]
  },
  {
   "cell_type": "code",
   "execution_count": 16,
   "metadata": {},
   "outputs": [
    {
     "data": {
      "image/png": "[encoded data removed]",
      "text/plain": [
       "<Figure size 432x288 with 1 Axes>"
      ]
     },
     "metadata": {
      "needs_background": "light"
     },
     "output_type": "display_data"
    }
   ],
   "source": [
    "#visulize the distribution of scores\n",
    "plt.hist(select_data[\"Score\"])\n",
    "plt.show()"
   ]
  },
  {
   "cell_type": "code",
   "execution_count": 17,
   "metadata": {},
   "outputs": [],
   "source": [
    "#split the data\n",
    "train_data, test_data = train_test_split(select_data, random_state=0, test_size=0.3)"
   ]
  },
  {
   "cell_type": "code",
   "execution_count": 18,
   "metadata": {},
   "outputs": [],
   "source": [
    "sentiment_label = {1: \"positive\",\n",
    "                 0: \"neutral\",\n",
    "                 -1: \"negative\"}\n",
    "def label_sentiment(data):\n",
    "    data.loc[data['Score'] == 5, [\"sentiment\"]] = 1\n",
    "    data.loc[data['Score'] == 4, [\"sentiment\"]] = 0\n",
    "    data.loc[data['Score'] <= 3, [\"sentiment\"]] = -1\n",
    "    return data\n"
   ]
  },
  {
   "cell_type": "code",
   "execution_count": 19,
   "metadata": {},
   "outputs": [
    {
     "data": {
      "text/html": [
       "<div>\n",
       "<style scoped>\n",
       "    .dataframe tbody tr th:only-of-type {\n",
       "        vertical-align: middle;\n",
       "    }\n",
       "\n",
       "    .dataframe tbody tr th {\n",
       "        vertical-align: top;\n",
       "    }\n",
       "\n",
       "    .dataframe thead th {\n",
       "        text-align: right;\n",
       "    }\n",
       "</style>\n",
       "<table border=\"1\" class=\"dataframe\">\n",
       "  <thead>\n",
       "    <tr style=\"text-align: right;\">\n",
       "      <th></th>\n",
       "      <th>ProductId</th>\n",
       "      <th>UserId</th>\n",
       "      <th>Score</th>\n",
       "      <th>Text</th>\n",
       "      <th>sentiment</th>\n",
       "    </tr>\n",
       "  </thead>\n",
       "  <tbody>\n",
       "    <tr>\n",
       "      <th>333546</th>\n",
       "      <td>B00188S3PM</td>\n",
       "      <td>A3IMFBFX5L85S9</td>\n",
       "      <td>2</td>\n",
       "      <td>I had a hard time drinking this tea as it tast...</td>\n",
       "      <td>-1.0</td>\n",
       "    </tr>\n",
       "    <tr>\n",
       "      <th>149769</th>\n",
       "      <td>B00004S1C5</td>\n",
       "      <td>A1KXONFPU2XQ5K</td>\n",
       "      <td>5</td>\n",
       "      <td>This are so much easier to use than the Wilson...</td>\n",
       "      <td>1.0</td>\n",
       "    </tr>\n",
       "    <tr>\n",
       "      <th>483649</th>\n",
       "      <td>B000LKTW5S</td>\n",
       "      <td>A2CH3AVJI0UR3P</td>\n",
       "      <td>5</td>\n",
       "      <td>I've had a bunch of these Indian food pouch th...</td>\n",
       "      <td>1.0</td>\n",
       "    </tr>\n",
       "    <tr>\n",
       "      <th>392300</th>\n",
       "      <td>B001EQ50U4</td>\n",
       "      <td>AKP5H95MFKI21</td>\n",
       "      <td>4</td>\n",
       "      <td>I received this item as advertised, i.e. pack ...</td>\n",
       "      <td>0.0</td>\n",
       "    </tr>\n",
       "    <tr>\n",
       "      <th>1514</th>\n",
       "      <td>B003UIDAHY</td>\n",
       "      <td>A5WOFSMP2PI45</td>\n",
       "      <td>5</td>\n",
       "      <td>Great product.  Recommended by Dr. Oz.  We lov...</td>\n",
       "      <td>1.0</td>\n",
       "    </tr>\n",
       "  </tbody>\n",
       "</table>\n",
       "</div>"
      ],
      "text/plain": [
       "         ProductId          UserId  Score  \\\n",
       "333546  B00188S3PM  A3IMFBFX5L85S9      2   \n",
       "149769  B00004S1C5  A1KXONFPU2XQ5K      5   \n",
       "483649  B000LKTW5S  A2CH3AVJI0UR3P      5   \n",
       "392300  B001EQ50U4   AKP5H95MFKI21      4   \n",
       "1514    B003UIDAHY   A5WOFSMP2PI45      5   \n",
       "\n",
       "                                                     Text  sentiment  \n",
       "333546  I had a hard time drinking this tea as it tast...       -1.0  \n",
       "149769  This are so much easier to use than the Wilson...        1.0  \n",
       "483649  I've had a bunch of these Indian food pouch th...        1.0  \n",
       "392300  I received this item as advertised, i.e. pack ...        0.0  \n",
       "1514    Great product.  Recommended by Dr. Oz.  We lov...        1.0  "
      ]
     },
     "execution_count": 19,
     "metadata": {},
     "output_type": "execute_result"
    }
   ],
   "source": [
    "train_data = label_sentiment(train_data)\n",
    "test_data = label_sentiment(test_data)\n",
    "train_data.head()"
   ]
  },
  {
   "cell_type": "markdown",
   "metadata": {},
   "source": [
    "### Tokenize, lemmatize and remove stopping words"
   ]
  },
  {
   "cell_type": "code",
   "execution_count": 20,
   "metadata": {},
   "outputs": [],
   "source": [
    "def tokenize(sentence,method='spacy'):\n",
    "# Tokenize and lemmatize text, remove stopwords and punctuation\n",
    "\n",
    "    punctuations = string.punctuation\n",
    "    stopwords = list(STOP_WORDS)\n",
    "\n",
    "    if method=='nltk':\n",
    "        # Tokenize\n",
    "        tokens = nltk.word_tokenize(sentence,preserve_line=True)\n",
    "        # Remove stopwords and punctuation\n",
    "        tokens = [word for word in tokens if word not in stopwords and word not in punctuations]\n",
    "        # Lemmatize\n",
    "        wordnet_lemmatizer = WordNetLemmatizer()\n",
    "        tokens = [wordnet_lemmatizer.lemmatize(word) for word in tokens]\n",
    "        tokens = \" \".join([i for i in tokens])\n",
    "    else:\n",
    "        # Tokenize\n",
    "        with nlp.select_pipes(enable=['tokenizer','lemmatizer']):\n",
    "            tokens = nlp(sentence)\n",
    "        # Lemmatize\n",
    "        tokens = [word.lemma_.lower().strip() for word in tokens]\n",
    "        # Remove stopwords and punctuation\n",
    "        tokens = [word for word in tokens if word not in stopwords and word not in punctuations]\n",
    "        tokens = \" \".join([i for i in tokens])\n",
    "    return tokens"
   ]
  },
  {
   "cell_type": "code",
   "execution_count": 21,
   "metadata": {},
   "outputs": [
    {
     "name": "stderr",
     "output_type": "stream",
     "text": [
      "100%|██████████| 397917/397917 [04:47<00:00, 1382.69it/s]\n",
      "100%|██████████| 170537/170537 [01:54<00:00, 1483.75it/s]\n"
     ]
    }
   ],
   "source": [
    "# Process the training set text\n",
    "tqdm.pandas()\n",
    "train_data['processed_text'] = train_data['Text'].progress_apply(lambda x: tokenize(x,method='nltk'))\n",
    "\n",
    "# Process the test set text\n",
    "tqdm.pandas()\n",
    "test_data['processed_text'] = test_data['Text'].progress_apply(lambda x: tokenize(x,method='nltk'))"
   ]
  },
  {
   "cell_type": "code",
   "execution_count": 24,
   "metadata": {},
   "outputs": [
    {
     "data": {
      "text/html": [
       "<div>\n",
       "<style scoped>\n",
       "    .dataframe tbody tr th:only-of-type {\n",
       "        vertical-align: middle;\n",
       "    }\n",
       "\n",
       "    .dataframe tbody tr th {\n",
       "        vertical-align: top;\n",
       "    }\n",
       "\n",
       "    .dataframe thead th {\n",
       "        text-align: right;\n",
       "    }\n",
       "</style>\n",
       "<table border=\"1\" class=\"dataframe\">\n",
       "  <thead>\n",
       "    <tr style=\"text-align: right;\">\n",
       "      <th></th>\n",
       "      <th>ProductId</th>\n",
       "      <th>UserId</th>\n",
       "      <th>Score</th>\n",
       "      <th>Text</th>\n",
       "      <th>sentiment</th>\n",
       "      <th>processed_text</th>\n",
       "    </tr>\n",
       "  </thead>\n",
       "  <tbody>\n",
       "    <tr>\n",
       "      <th>333546</th>\n",
       "      <td>B00188S3PM</td>\n",
       "      <td>A3IMFBFX5L85S9</td>\n",
       "      <td>2</td>\n",
       "      <td>I had a hard time drinking this tea as it tast...</td>\n",
       "      <td>-1.0</td>\n",
       "      <td>I hard time drinking tea taste like cardboard ...</td>\n",
       "    </tr>\n",
       "    <tr>\n",
       "      <th>149769</th>\n",
       "      <td>B00004S1C5</td>\n",
       "      <td>A1KXONFPU2XQ5K</td>\n",
       "      <td>5</td>\n",
       "      <td>This are so much easier to use than the Wilson...</td>\n",
       "      <td>1.0</td>\n",
       "      <td>This easier use Wilson paste colors. Colors vi...</td>\n",
       "    </tr>\n",
       "    <tr>\n",
       "      <th>483649</th>\n",
       "      <td>B000LKTW5S</td>\n",
       "      <td>A2CH3AVJI0UR3P</td>\n",
       "      <td>5</td>\n",
       "      <td>I've had a bunch of these Indian food pouch th...</td>\n",
       "      <td>1.0</td>\n",
       "      <td>I bunch Indian food pouch thing probably best ...</td>\n",
       "    </tr>\n",
       "    <tr>\n",
       "      <th>392300</th>\n",
       "      <td>B001EQ50U4</td>\n",
       "      <td>AKP5H95MFKI21</td>\n",
       "      <td>4</td>\n",
       "      <td>I received this item as advertised, i.e. pack ...</td>\n",
       "      <td>0.0</td>\n",
       "      <td>I received item advertised i.e. pack 2. No pro...</td>\n",
       "    </tr>\n",
       "    <tr>\n",
       "      <th>1514</th>\n",
       "      <td>B003UIDAHY</td>\n",
       "      <td>A5WOFSMP2PI45</td>\n",
       "      <td>5</td>\n",
       "      <td>Great product.  Recommended by Dr. Oz.  We lov...</td>\n",
       "      <td>1.0</td>\n",
       "      <td>Great product. Recommended Dr. Oz. We love pas...</td>\n",
       "    </tr>\n",
       "  </tbody>\n",
       "</table>\n",
       "</div>"
      ],
      "text/plain": [
       "         ProductId          UserId  Score  \\\n",
       "333546  B00188S3PM  A3IMFBFX5L85S9      2   \n",
       "149769  B00004S1C5  A1KXONFPU2XQ5K      5   \n",
       "483649  B000LKTW5S  A2CH3AVJI0UR3P      5   \n",
       "392300  B001EQ50U4   AKP5H95MFKI21      4   \n",
       "1514    B003UIDAHY   A5WOFSMP2PI45      5   \n",
       "\n",
       "                                                     Text  sentiment  \\\n",
       "333546  I had a hard time drinking this tea as it tast...       -1.0   \n",
       "149769  This are so much easier to use than the Wilson...        1.0   \n",
       "483649  I've had a bunch of these Indian food pouch th...        1.0   \n",
       "392300  I received this item as advertised, i.e. pack ...        0.0   \n",
       "1514    Great product.  Recommended by Dr. Oz.  We lov...        1.0   \n",
       "\n",
       "                                           processed_text  \n",
       "333546  I hard time drinking tea taste like cardboard ...  \n",
       "149769  This easier use Wilson paste colors. Colors vi...  \n",
       "483649  I bunch Indian food pouch thing probably best ...  \n",
       "392300  I received item advertised i.e. pack 2. No pro...  \n",
       "1514    Great product. Recommended Dr. Oz. We love pas...  "
      ]
     },
     "execution_count": 24,
     "metadata": {},
     "output_type": "execute_result"
    }
   ],
   "source": [
    "train_data.head()"
   ]
  },
  {
   "cell_type": "markdown",
   "metadata": {},
   "source": [
    "## Create features using word counts"
   ]
  },
  {
   "cell_type": "code",
   "execution_count": 22,
   "metadata": {},
   "outputs": [],
   "source": [
    "def build_features(train_data, test_data, ngram_range, method='count'):\n",
    "    if method == 'tfidf':\n",
    "        # Create features using TFIDF\n",
    "        vec = TfidfVectorizer(ngram_range=ngram_range)\n",
    "        X_train = vec.fit_transform(train_data['processed_text'])\n",
    "        X_test = vec.transform(test_data['processed_text'])\n",
    "\n",
    "    else:\n",
    "        # Create features using word counts\n",
    "        vec = CountVectorizer(ngram_range=ngram_range)\n",
    "        X_train = vec.fit_transform(train_data['processed_text'])\n",
    "        X_test = vec.transform(test_data['processed_text'])\n",
    "\n",
    "    return X_train, X_test, vec"
   ]
  },
  {
   "cell_type": "code",
   "execution_count": 25,
   "metadata": {},
   "outputs": [],
   "source": [
    "# Create features\n",
    "method = 'tfidf'\n",
    "ngram_range = (1, 2)\n",
    "X_train,X_test, nlp = build_features(train_data,test_data,ngram_range,method)"
   ]
  },
  {
   "cell_type": "markdown",
   "metadata": {},
   "source": [
    "## Train the model"
   ]
  },
  {
   "cell_type": "code",
   "execution_count": 26,
   "metadata": {},
   "outputs": [
    {
     "name": "stdout",
     "output_type": "stream",
     "text": [
      "Accuracy on the training set is 0.907\n"
     ]
    }
   ],
   "source": [
    "# Train a classification model using logistic regression classifier\n",
    "y_train = train_data['sentiment']\n",
    "logreg_model = LogisticRegression(solver='saga')\n",
    "logreg_model.fit(X_train,y_train)\n",
    "preds = logreg_model.predict(X_train)\n",
    "acc = sum(preds==y_train)/len(y_train)\n",
    "print('Accuracy on the training set is {:.3f}'.format(acc))"
   ]
  },
  {
   "cell_type": "markdown",
   "metadata": {},
   "source": [
    "## Evaluate model"
   ]
  },
  {
   "cell_type": "code",
   "execution_count": 28,
   "metadata": {},
   "outputs": [
    {
     "name": "stdout",
     "output_type": "stream",
     "text": [
      "Accuracy on the test set is 0.846\n"
     ]
    }
   ],
   "source": [
    "# Evaluate accuracy on the test set\n",
    "y_test = test_data['sentiment']\n",
    "test_preds = logreg_model.predict(X_test)\n",
    "test_acc = sum(test_preds==y_test)/len(y_test)\n",
    "print('Accuracy on the test set is {:.3f}'.format(test_acc))"
   ]
  },
  {
   "cell_type": "code",
   "execution_count": null,
   "metadata": {},
   "outputs": [],
   "source": [
    "nlp.\n",
    "logreg_model"
   ]
  },
  {
   "cell_type": "code",
   "execution_count": 29,
   "metadata": {},
   "outputs": [],
   "source": [
    "train_data['sentiment_pred'] = logreg_model.predict(X_train)\n",
    "test_data['sentiment_pred'] = logreg_model.predict(X_test)"
   ]
  },
  {
   "cell_type": "code",
   "execution_count": 30,
   "metadata": {},
   "outputs": [
    {
     "data": {
      "text/html": [
       "<div>\n",
       "<style scoped>\n",
       "    .dataframe tbody tr th:only-of-type {\n",
       "        vertical-align: middle;\n",
       "    }\n",
       "\n",
       "    .dataframe tbody tr th {\n",
       "        vertical-align: top;\n",
       "    }\n",
       "\n",
       "    .dataframe thead th {\n",
       "        text-align: right;\n",
       "    }\n",
       "</style>\n",
       "<table border=\"1\" class=\"dataframe\">\n",
       "  <thead>\n",
       "    <tr style=\"text-align: right;\">\n",
       "      <th></th>\n",
       "      <th>ProductId</th>\n",
       "      <th>UserId</th>\n",
       "      <th>Score</th>\n",
       "      <th>Text</th>\n",
       "      <th>sentiment</th>\n",
       "      <th>processed_text</th>\n",
       "      <th>sentiment_pred</th>\n",
       "    </tr>\n",
       "  </thead>\n",
       "  <tbody>\n",
       "    <tr>\n",
       "      <th>333546</th>\n",
       "      <td>B00188S3PM</td>\n",
       "      <td>A3IMFBFX5L85S9</td>\n",
       "      <td>2</td>\n",
       "      <td>I had a hard time drinking this tea as it tast...</td>\n",
       "      <td>-1.0</td>\n",
       "      <td>I hard time drinking tea taste like cardboard ...</td>\n",
       "      <td>-1.0</td>\n",
       "    </tr>\n",
       "    <tr>\n",
       "      <th>149769</th>\n",
       "      <td>B00004S1C5</td>\n",
       "      <td>A1KXONFPU2XQ5K</td>\n",
       "      <td>5</td>\n",
       "      <td>This are so much easier to use than the Wilson...</td>\n",
       "      <td>1.0</td>\n",
       "      <td>This easier use Wilson paste colors. Colors vi...</td>\n",
       "      <td>1.0</td>\n",
       "    </tr>\n",
       "    <tr>\n",
       "      <th>483649</th>\n",
       "      <td>B000LKTW5S</td>\n",
       "      <td>A2CH3AVJI0UR3P</td>\n",
       "      <td>5</td>\n",
       "      <td>I've had a bunch of these Indian food pouch th...</td>\n",
       "      <td>1.0</td>\n",
       "      <td>I bunch Indian food pouch thing probably best ...</td>\n",
       "      <td>1.0</td>\n",
       "    </tr>\n",
       "    <tr>\n",
       "      <th>392300</th>\n",
       "      <td>B001EQ50U4</td>\n",
       "      <td>AKP5H95MFKI21</td>\n",
       "      <td>4</td>\n",
       "      <td>I received this item as advertised, i.e. pack ...</td>\n",
       "      <td>0.0</td>\n",
       "      <td>I received item advertised i.e. pack 2. No pro...</td>\n",
       "      <td>-1.0</td>\n",
       "    </tr>\n",
       "    <tr>\n",
       "      <th>1514</th>\n",
       "      <td>B003UIDAHY</td>\n",
       "      <td>A5WOFSMP2PI45</td>\n",
       "      <td>5</td>\n",
       "      <td>Great product.  Recommended by Dr. Oz.  We lov...</td>\n",
       "      <td>1.0</td>\n",
       "      <td>Great product. Recommended Dr. Oz. We love pas...</td>\n",
       "      <td>1.0</td>\n",
       "    </tr>\n",
       "  </tbody>\n",
       "</table>\n",
       "</div>"
      ],
      "text/plain": [
       "         ProductId          UserId  Score  \\\n",
       "333546  B00188S3PM  A3IMFBFX5L85S9      2   \n",
       "149769  B00004S1C5  A1KXONFPU2XQ5K      5   \n",
       "483649  B000LKTW5S  A2CH3AVJI0UR3P      5   \n",
       "392300  B001EQ50U4   AKP5H95MFKI21      4   \n",
       "1514    B003UIDAHY   A5WOFSMP2PI45      5   \n",
       "\n",
       "                                                     Text  sentiment  \\\n",
       "333546  I had a hard time drinking this tea as it tast...       -1.0   \n",
       "149769  This are so much easier to use than the Wilson...        1.0   \n",
       "483649  I've had a bunch of these Indian food pouch th...        1.0   \n",
       "392300  I received this item as advertised, i.e. pack ...        0.0   \n",
       "1514    Great product.  Recommended by Dr. Oz.  We lov...        1.0   \n",
       "\n",
       "                                           processed_text  sentiment_pred  \n",
       "333546  I hard time drinking tea taste like cardboard ...            -1.0  \n",
       "149769  This easier use Wilson paste colors. Colors vi...             1.0  \n",
       "483649  I bunch Indian food pouch thing probably best ...             1.0  \n",
       "392300  I received item advertised i.e. pack 2. No pro...            -1.0  \n",
       "1514    Great product. Recommended Dr. Oz. We love pas...             1.0  "
      ]
     },
     "execution_count": 30,
     "metadata": {},
     "output_type": "execute_result"
    }
   ],
   "source": [
    "train_data.head()"
   ]
  },
  {
   "cell_type": "code",
   "execution_count": 31,
   "metadata": {},
   "outputs": [],
   "source": [
    "train_data.to_csv(os.path.join(DATA_PATH, \"tfidf_train.csv\"))\n",
    "test_data.to_csv(os.path.join(DATA_PATH, \"tfidf_test.csv\"))"
   ]
  },
  {
   "cell_type": "code",
   "execution_count": null,
   "metadata": {},
   "outputs": [],
   "source": []
  }
 ],
 "metadata": {
  "interpreter": {
   "hash": "60249ee1e7164fb275d23a72b3b8807f0f07405f2ba47d3073692c33396f07a4"
  },
  "kernelspec": {
   "display_name": "Python 3.7.11 ('pth')",
   "language": "python",
   "name": "python3"
  },
  "language_info": {
   "codemirror_mode": {
    "name": "ipython",
    "version": 3
   },
   "file_extension": ".py",
   "mimetype": "text/x-python",
   "name": "python",
   "nbconvert_exporter": "python",
   "pygments_lexer": "ipython3",
   "version": "3.7.12"
  },
  "orig_nbformat": 4
 },
 "nbformat": 4,
 "nbformat_minor": 2
}
